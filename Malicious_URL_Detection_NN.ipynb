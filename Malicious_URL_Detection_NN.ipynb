{
  "nbformat": 4,
  "nbformat_minor": 0,
  "metadata": {
    "colab": {
      "name": "Malicious_URL Detection NN.ipynb",
      "provenance": [],
      "collapsed_sections": []
    },
    "kernelspec": {
      "name": "python3",
      "display_name": "Python 3"
    },
    "language_info": {
      "name": "python"
    }
  },
  "cells": [
    {
      "cell_type": "markdown",
      "metadata": {
        "id": "7OuZ9y9iXZS6"
      },
      "source": [
        "This is a continuation of the file in which we explored the problem of detecting malicious URls using various classification techniques such as Naive Bayes, Logistic Regression, and Support Vector Machines using both Binary and Multiclass Classification for each."
      ]
    },
    {
      "cell_type": "markdown",
      "metadata": {
        "id": "2hOlNmc5Yi0v"
      },
      "source": [
        "## **Neural Network for Classification**"
      ]
    },
    {
      "cell_type": "code",
      "metadata": {
        "id": "bUSq7oxJXRJx"
      },
      "source": [
        "# Load the Dataset\n",
        "import pandas as pd"
      ],
      "execution_count": 1,
      "outputs": []
    },
    {
      "cell_type": "code",
      "metadata": {
        "id": "vxVa-zVlw0cR"
      },
      "source": [
        "df = pd.read_csv(\"malicious_phish.csv\")"
      ],
      "execution_count": 2,
      "outputs": []
    },
    {
      "cell_type": "code",
      "metadata": {
        "colab": {
          "base_uri": "https://localhost:8080/",
          "height": 419
        },
        "id": "KW18ktsOw79d",
        "outputId": "43595552-dd98-48f6-fa14-224bd4f19686"
      },
      "source": [
        "df"
      ],
      "execution_count": 3,
      "outputs": [
        {
          "output_type": "execute_result",
          "data": {
            "text/html": [
              "<div>\n",
              "<style scoped>\n",
              "    .dataframe tbody tr th:only-of-type {\n",
              "        vertical-align: middle;\n",
              "    }\n",
              "\n",
              "    .dataframe tbody tr th {\n",
              "        vertical-align: top;\n",
              "    }\n",
              "\n",
              "    .dataframe thead th {\n",
              "        text-align: right;\n",
              "    }\n",
              "</style>\n",
              "<table border=\"1\" class=\"dataframe\">\n",
              "  <thead>\n",
              "    <tr style=\"text-align: right;\">\n",
              "      <th></th>\n",
              "      <th>url</th>\n",
              "      <th>type</th>\n",
              "    </tr>\n",
              "  </thead>\n",
              "  <tbody>\n",
              "    <tr>\n",
              "      <th>0</th>\n",
              "      <td>br-icloud.com.br</td>\n",
              "      <td>phishing</td>\n",
              "    </tr>\n",
              "    <tr>\n",
              "      <th>1</th>\n",
              "      <td>mp3raid.com/music/krizz_kaliko.html</td>\n",
              "      <td>benign</td>\n",
              "    </tr>\n",
              "    <tr>\n",
              "      <th>2</th>\n",
              "      <td>bopsecrets.org/rexroth/cr/1.htm</td>\n",
              "      <td>benign</td>\n",
              "    </tr>\n",
              "    <tr>\n",
              "      <th>3</th>\n",
              "      <td>http://www.garage-pirenne.be/index.php?option=...</td>\n",
              "      <td>defacement</td>\n",
              "    </tr>\n",
              "    <tr>\n",
              "      <th>4</th>\n",
              "      <td>http://adventure-nicaragua.net/index.php?optio...</td>\n",
              "      <td>defacement</td>\n",
              "    </tr>\n",
              "    <tr>\n",
              "      <th>...</th>\n",
              "      <td>...</td>\n",
              "      <td>...</td>\n",
              "    </tr>\n",
              "    <tr>\n",
              "      <th>651186</th>\n",
              "      <td>xbox360.ign.com/objects/850/850402.html</td>\n",
              "      <td>phishing</td>\n",
              "    </tr>\n",
              "    <tr>\n",
              "      <th>651187</th>\n",
              "      <td>games.teamxbox.com/xbox-360/1860/Dead-Space/</td>\n",
              "      <td>phishing</td>\n",
              "    </tr>\n",
              "    <tr>\n",
              "      <th>651188</th>\n",
              "      <td>www.gamespot.com/xbox360/action/deadspace/</td>\n",
              "      <td>phishing</td>\n",
              "    </tr>\n",
              "    <tr>\n",
              "      <th>651189</th>\n",
              "      <td>en.wikipedia.org/wiki/Dead_Space_(video_game)</td>\n",
              "      <td>phishing</td>\n",
              "    </tr>\n",
              "    <tr>\n",
              "      <th>651190</th>\n",
              "      <td>www.angelfire.com/goth/devilmaycrytonite/</td>\n",
              "      <td>phishing</td>\n",
              "    </tr>\n",
              "  </tbody>\n",
              "</table>\n",
              "<p>651191 rows × 2 columns</p>\n",
              "</div>"
            ],
            "text/plain": [
              "                                                      url        type\n",
              "0                                        br-icloud.com.br    phishing\n",
              "1                     mp3raid.com/music/krizz_kaliko.html      benign\n",
              "2                         bopsecrets.org/rexroth/cr/1.htm      benign\n",
              "3       http://www.garage-pirenne.be/index.php?option=...  defacement\n",
              "4       http://adventure-nicaragua.net/index.php?optio...  defacement\n",
              "...                                                   ...         ...\n",
              "651186            xbox360.ign.com/objects/850/850402.html    phishing\n",
              "651187       games.teamxbox.com/xbox-360/1860/Dead-Space/    phishing\n",
              "651188         www.gamespot.com/xbox360/action/deadspace/    phishing\n",
              "651189      en.wikipedia.org/wiki/Dead_Space_(video_game)    phishing\n",
              "651190          www.angelfire.com/goth/devilmaycrytonite/    phishing\n",
              "\n",
              "[651191 rows x 2 columns]"
            ]
          },
          "metadata": {},
          "execution_count": 3
        }
      ]
    },
    {
      "cell_type": "code",
      "metadata": {
        "colab": {
          "base_uri": "https://localhost:8080/"
        },
        "id": "OPoqA2xCw9Mn",
        "outputId": "42a691f0-fadc-417a-fd8b-9e11344eea65"
      },
      "source": [
        "df.type.unique() # 1 of four class labels "
      ],
      "execution_count": 4,
      "outputs": [
        {
          "output_type": "execute_result",
          "data": {
            "text/plain": [
              "array(['phishing', 'benign', 'defacement', 'malware'], dtype=object)"
            ]
          },
          "metadata": {},
          "execution_count": 4
        }
      ]
    },
    {
      "cell_type": "code",
      "metadata": {
        "id": "rG50LDdgyCCd"
      },
      "source": [
        "# Now we split our dataset into training and testing\n",
        "from sklearn.model_selection import train_test_split\n",
        "from sklearn.preprocessing import LabelEncoder\n",
        "from sklearn.metrics import confusion_matrix, classification_report\n",
        "import numpy as np\n"
      ],
      "execution_count": 5,
      "outputs": []
    },
    {
      "cell_type": "code",
      "metadata": {
        "id": "peqovHiJzuHp"
      },
      "source": [
        "# Transform the data into numpy arrays to make it easier to apply the functions\n",
        "URLs = np.array(df.url.values)\n",
        "labels = np.array(df.type.values)"
      ],
      "execution_count": 6,
      "outputs": []
    },
    {
      "cell_type": "code",
      "metadata": {
        "id": "_btPfZ_g0I96"
      },
      "source": [
        "X_train, X_test, y_train, y_test = train_test_split(URLs, labels, test_size=0.2, random_state=32)"
      ],
      "execution_count": 7,
      "outputs": []
    },
    {
      "cell_type": "code",
      "metadata": {
        "id": "-y8T8Tgf0rGj"
      },
      "source": [
        "# Now we import everything we need for our keras NN model\n",
        "from keras.preprocessing.text import Tokenizer\n",
        "from keras.preprocessing.sequence import pad_sequences\n",
        "from keras.utils import np_utils\n",
        "from keras.models import Sequential\n",
        "from keras import layers\n",
        "from keras.wrappers.scikit_learn import KerasClassifier"
      ],
      "execution_count": 8,
      "outputs": []
    },
    {
      "cell_type": "code",
      "metadata": {
        "id": "VpSxNTWa0x0S"
      },
      "source": [
        "tokenizer = Tokenizer() # we use the keras built in text tokenizer\n",
        "tokenizer.fit_on_texts(X_train) #add the URLs in our training set to the vocabulary\n",
        "\n",
        "# Then we get the final training and testing URLs by converting each to a sequence of integers (tokenized)\n",
        "X_train = tokenizer.texts_to_sequences(X_train)\n",
        "X_test = tokenizer.texts_to_sequences(X_test)\n",
        "\n",
        "vocab_size = len(tokenizer.word_index) + 1 # all the words that our tokenizer now recognizes have been added to vocab"
      ],
      "execution_count": 9,
      "outputs": []
    },
    {
      "cell_type": "code",
      "metadata": {
        "colab": {
          "base_uri": "https://localhost:8080/"
        },
        "id": "Dma6yt2t1Xjt",
        "outputId": "c6ad9558-e801-42a0-e592-c18c28848ec6"
      },
      "source": [
        "print(X_train[0]) # This is the transformation of the first URL"
      ],
      "execution_count": 10,
      "outputs": [
        {
          "output_type": "stream",
          "name": "stdout",
          "text": [
            "[62, 1, 129, 2987, 10745, 123384]\n"
          ]
        }
      ]
    },
    {
      "cell_type": "code",
      "metadata": {
        "colab": {
          "base_uri": "https://localhost:8080/"
        },
        "id": "B_R4Nd5mEYLO",
        "outputId": "7b218e59-806d-45e1-facb-ddd902a0df1f"
      },
      "source": [
        "len_train = [len(i) for i in X_train]\n",
        "len_test = [len(i) for i in X_test]\n",
        "max_train = max(len_train)\n",
        "max_test = max(len_test)\n",
        "max_url = max(max_train, max_test)\n",
        "\n",
        "\n",
        "print(max_url) # length of the largest tokenized url"
      ],
      "execution_count": 11,
      "outputs": [
        {
          "output_type": "stream",
          "name": "stdout",
          "text": [
            "368\n"
          ]
        }
      ]
    },
    {
      "cell_type": "code",
      "metadata": {
        "colab": {
          "base_uri": "https://localhost:8080/"
        },
        "id": "_Ivf_PR5EX-2",
        "outputId": "9239d957-8c2d-4c94-ba08-bbe9c0bfdb81"
      },
      "source": [
        "# So we take all of our urls and add padding (0's) to the end of those that are less than max_url in length\n",
        "X_train = pad_sequences(X_train, padding='post', maxlen=max_url)\n",
        "X_test = pad_sequences(X_test, padding='post', maxlen=max_url)\n",
        "\n",
        "type(X_train)\n",
        "type(X_test)"
      ],
      "execution_count": 12,
      "outputs": [
        {
          "output_type": "execute_result",
          "data": {
            "text/plain": [
              "numpy.ndarray"
            ]
          },
          "metadata": {},
          "execution_count": 12
        }
      ]
    },
    {
      "cell_type": "code",
      "metadata": {
        "colab": {
          "base_uri": "https://localhost:8080/"
        },
        "id": "V4XU2pHc1zr7",
        "outputId": "24f7f005-c4b9-4a32-83b3-16d572732043"
      },
      "source": [
        "encoder = LabelEncoder()\n",
        "encoder.fit(labels) # adds all the possible labels, so we can do multi-class classification\n",
        "\n",
        "encoded_y_train = encoder.transform(y_train)\n",
        "encoded_y_test = encoder.transform(y_test)\n",
        "\n",
        "dummy_train_labels = np_utils.to_categorical(encoded_y_train)\n",
        "dummy_test_labels = np_utils.to_categorical(encoded_y_test)\n",
        "type(dummy_test_labels)"
      ],
      "execution_count": 13,
      "outputs": [
        {
          "output_type": "execute_result",
          "data": {
            "text/plain": [
              "numpy.ndarray"
            ]
          },
          "metadata": {},
          "execution_count": 13
        }
      ]
    },
    {
      "cell_type": "code",
      "metadata": {
        "colab": {
          "base_uri": "https://localhost:8080/"
        },
        "id": "TmF2rXQlBddI",
        "outputId": "c1208171-0f50-416c-e1d0-ab3adf513d21"
      },
      "source": [
        "type(dummy_train_labels)"
      ],
      "execution_count": 14,
      "outputs": [
        {
          "output_type": "execute_result",
          "data": {
            "text/plain": [
              "numpy.ndarray"
            ]
          },
          "metadata": {},
          "execution_count": 14
        }
      ]
    },
    {
      "cell_type": "code",
      "metadata": {
        "colab": {
          "base_uri": "https://localhost:8080/"
        },
        "id": "kNW-XXrBBiP6",
        "outputId": "6f25c3c8-5c1e-49b1-f63f-d24ab21a2741"
      },
      "source": [
        "type(X_train)"
      ],
      "execution_count": 15,
      "outputs": [
        {
          "output_type": "execute_result",
          "data": {
            "text/plain": [
              "numpy.ndarray"
            ]
          },
          "metadata": {},
          "execution_count": 15
        }
      ]
    },
    {
      "cell_type": "code",
      "metadata": {
        "colab": {
          "base_uri": "https://localhost:8080/"
        },
        "id": "AOP73weR3jGa",
        "outputId": "53a0ce0a-5fe9-4817-8115-ca0638c9f2d8"
      },
      "source": [
        "encoded_y_test"
      ],
      "execution_count": 16,
      "outputs": [
        {
          "output_type": "execute_result",
          "data": {
            "text/plain": [
              "array([2, 0, 0, ..., 3, 0, 0])"
            ]
          },
          "metadata": {},
          "execution_count": 16
        }
      ]
    },
    {
      "cell_type": "code",
      "metadata": {
        "colab": {
          "base_uri": "https://localhost:8080/"
        },
        "id": "l7Rvhiia7S2I",
        "outputId": "37f2f315-fa6d-4f54-ca79-997c9037b335"
      },
      "source": [
        "print(encoded_y_test[1:30])"
      ],
      "execution_count": 17,
      "outputs": [
        {
          "output_type": "stream",
          "name": "stdout",
          "text": [
            "[0 0 0 0 0 0 3 0 0 0 0 1 0 0 0 1 3 1 1 0 2 3 0 1 0 1 0 0 0]\n"
          ]
        }
      ]
    },
    {
      "cell_type": "code",
      "metadata": {
        "colab": {
          "base_uri": "https://localhost:8080/"
        },
        "id": "fz05K7eo7Zuv",
        "outputId": "3d48bf8f-4355-44a4-cdd4-5730ee7f9700"
      },
      "source": [
        "print(y_test[1:30])"
      ],
      "execution_count": 18,
      "outputs": [
        {
          "output_type": "stream",
          "name": "stdout",
          "text": [
            "['benign' 'benign' 'benign' 'benign' 'benign' 'benign' 'phishing' 'benign'\n",
            " 'benign' 'benign' 'benign' 'defacement' 'benign' 'benign' 'benign'\n",
            " 'defacement' 'phishing' 'defacement' 'defacement' 'benign' 'malware'\n",
            " 'phishing' 'benign' 'defacement' 'benign' 'defacement' 'benign' 'benign'\n",
            " 'benign']\n"
          ]
        }
      ]
    },
    {
      "cell_type": "markdown",
      "metadata": {
        "id": "3yzVx1Ps7vzZ"
      },
      "source": [
        "This helps us know the encoding. \n",
        "benign -> 0\n",
        "defacement -> 1\n",
        "malware -> 2\n",
        "phishing -> 3"
      ]
    },
    {
      "cell_type": "code",
      "metadata": {
        "id": "-XQAch_T3uDD"
      },
      "source": [
        "# Now we can start building the neural network itself\n",
        "import tensorflow as tf"
      ],
      "execution_count": 19,
      "outputs": []
    },
    {
      "cell_type": "code",
      "metadata": {
        "id": "Xf84Dnhk4Siz"
      },
      "source": [
        "# Instantiate and start adding to NN model\n",
        "model = Sequential() # A sequential model"
      ],
      "execution_count": 20,
      "outputs": []
    },
    {
      "cell_type": "code",
      "metadata": {
        "id": "bnr6KCbp4VlT"
      },
      "source": [
        "model.add(layers.Flatten())\n",
        "\n",
        "model.add(layers.Dropout(0.2))\n",
        "\n",
        "#model.add(layers.GlobalAveragePooling1D())\n",
        "\n",
        "model.add(layers.Dropout(0.2))\n",
        "\n",
        "model.add(layers.Dense(512, activation='sigmoid')) # 50 neurons with ReLU activation function\n",
        "\n",
        "model.add(layers.Dropout(0.2))\n",
        "\n",
        "model.add(layers.Dense(256, activation='relu')) # 50 neurons with ReLU activation function\n",
        "\n",
        "model.add(layers.Dropout(0.2))\n",
        "\n",
        "model.add(layers.Dense(4, activation='softmax')) #softmax function for our final output layer"
      ],
      "execution_count": 21,
      "outputs": []
    },
    {
      "cell_type": "code",
      "metadata": {
        "id": "4VVqwYcR4tXe"
      },
      "source": [
        "# Now we compile the model, with the metrics that we will need\n",
        "model.compile(optimizer='adam',\n",
        "              loss = 'categorical_crossentropy',\n",
        "              metrics=['accuracy'])\n",
        "\n"
      ],
      "execution_count": 22,
      "outputs": []
    },
    {
      "cell_type": "code",
      "metadata": {
        "id": "41GnsSDw7GKm"
      },
      "source": [
        "# Since we know we have a major class imbalance, we can set some class weights to help with this\n",
        "# We know that there is the following data split:\n",
        "# Benign (0): 0.66%, Defacement (1): 0.15%, Phishing (3): 0.14%, Malware (2): 0.05%\n",
        "\n",
        "from sklearn.utils import class_weight\n",
        "\n",
        "class_weights = {0: 1.,\n",
        "                 1: 2.,\n",
        "                 2: 10.,\n",
        "                 3: 2.}"
      ],
      "execution_count": 23,
      "outputs": []
    },
    {
      "cell_type": "code",
      "metadata": {
        "colab": {
          "base_uri": "https://localhost:8080/"
        },
        "id": "yo7uOrmkDDI_",
        "outputId": "3d04e4a9-16f7-4a8b-fb21-92348ecb67fe"
      },
      "source": [
        "print(X_train)"
      ],
      "execution_count": 24,
      "outputs": [
        {
          "output_type": "stream",
          "name": "stdout",
          "text": [
            "[[    62      1    129 ...      0      0      0]\n",
            " [   943      1    470 ...      0      0      0]\n",
            " [     2      3   5306 ...      0      0      0]\n",
            " ...\n",
            " [465807   7606      1 ...      0      0      0]\n",
            " [     2      3 107922 ...      0      0      0]\n",
            " [   645      1   8364 ...      0      0      0]]\n"
          ]
        }
      ]
    },
    {
      "cell_type": "code",
      "metadata": {
        "id": "PzzCHaDJGNre"
      },
      "source": [
        "X_train = np.asarray(X_train).astype(np.float32)"
      ],
      "execution_count": 25,
      "outputs": []
    },
    {
      "cell_type": "code",
      "metadata": {
        "colab": {
          "base_uri": "https://localhost:8080/"
        },
        "id": "TKnxxLMzGzOQ",
        "outputId": "9a9a1c16-da8c-42c8-a592-ebb11d92b74e"
      },
      "source": [
        "print(X_train)"
      ],
      "execution_count": 26,
      "outputs": [
        {
          "output_type": "stream",
          "name": "stdout",
          "text": [
            "[[6.20000e+01 1.00000e+00 1.29000e+02 ... 0.00000e+00 0.00000e+00\n",
            "  0.00000e+00]\n",
            " [9.43000e+02 1.00000e+00 4.70000e+02 ... 0.00000e+00 0.00000e+00\n",
            "  0.00000e+00]\n",
            " [2.00000e+00 3.00000e+00 5.30600e+03 ... 0.00000e+00 0.00000e+00\n",
            "  0.00000e+00]\n",
            " ...\n",
            " [4.65807e+05 7.60600e+03 1.00000e+00 ... 0.00000e+00 0.00000e+00\n",
            "  0.00000e+00]\n",
            " [2.00000e+00 3.00000e+00 1.07922e+05 ... 0.00000e+00 0.00000e+00\n",
            "  0.00000e+00]\n",
            " [6.45000e+02 1.00000e+00 8.36400e+03 ... 0.00000e+00 0.00000e+00\n",
            "  0.00000e+00]]\n"
          ]
        }
      ]
    },
    {
      "cell_type": "code",
      "metadata": {
        "colab": {
          "base_uri": "https://localhost:8080/"
        },
        "id": "y4xMK3B-6JZo",
        "outputId": "aca6e221-5bd1-4f7c-b22d-5805212a4f3f"
      },
      "source": [
        "# Now we can train the model\n",
        "history = model.fit(X_train, dummy_train_labels,\n",
        "                    epochs=1,\n",
        "                    verbose=True,\n",
        "                    batch_size=128,\n",
        "                    validation_split=0.1,\n",
        "                    shuffle=True,\n",
        "                    class_weight=class_weights\n",
        ")"
      ],
      "execution_count": 27,
      "outputs": [
        {
          "output_type": "stream",
          "name": "stdout",
          "text": [
            "4070/4070 [==============================] - 50s 12ms/step - loss: 1.8429 - accuracy: 0.5766\n"
          ]
        }
      ]
    },
    {
      "cell_type": "code",
      "metadata": {
        "colab": {
          "base_uri": "https://localhost:8080/"
        },
        "id": "0473kh745CBC",
        "outputId": "3c03e31e-28e5-4309-8bd2-4fa5f7fdc5df"
      },
      "source": [
        "model.summary() # get the summary of the layers in the model"
      ],
      "execution_count": 28,
      "outputs": [
        {
          "output_type": "stream",
          "name": "stdout",
          "text": [
            "Model: \"sequential\"\n",
            "_________________________________________________________________\n",
            "Layer (type)                 Output Shape              Param #   \n",
            "=================================================================\n",
            "flatten (Flatten)            (None, 368)               0         \n",
            "_________________________________________________________________\n",
            "dropout (Dropout)            (None, 368)               0         \n",
            "_________________________________________________________________\n",
            "dropout_1 (Dropout)          (None, 368)               0         \n",
            "_________________________________________________________________\n",
            "dense (Dense)                (None, 512)               188928    \n",
            "_________________________________________________________________\n",
            "dropout_2 (Dropout)          (None, 512)               0         \n",
            "_________________________________________________________________\n",
            "dense_1 (Dense)              (None, 256)               131328    \n",
            "_________________________________________________________________\n",
            "dropout_3 (Dropout)          (None, 256)               0         \n",
            "_________________________________________________________________\n",
            "dense_2 (Dense)              (None, 4)                 1028      \n",
            "=================================================================\n",
            "Total params: 321,284\n",
            "Trainable params: 321,284\n",
            "Non-trainable params: 0\n",
            "_________________________________________________________________\n"
          ]
        }
      ]
    },
    {
      "cell_type": "code",
      "metadata": {
        "id": "nF6EJK2WIOY_"
      },
      "source": [
        "pred = np.argmax(model.predict(X_test), axis=-1)"
      ],
      "execution_count": 29,
      "outputs": []
    },
    {
      "cell_type": "code",
      "metadata": {
        "colab": {
          "base_uri": "https://localhost:8080/"
        },
        "id": "bryC4vwhIPaZ",
        "outputId": "d7c47a4a-1485-4bf7-92ae-e57d111722c3"
      },
      "source": [
        "pred"
      ],
      "execution_count": 30,
      "outputs": [
        {
          "output_type": "execute_result",
          "data": {
            "text/plain": [
              "array([2, 0, 2, ..., 0, 0, 0])"
            ]
          },
          "metadata": {},
          "execution_count": 30
        }
      ]
    },
    {
      "cell_type": "code",
      "metadata": {
        "colab": {
          "base_uri": "https://localhost:8080/"
        },
        "id": "yDy1_qITIWla",
        "outputId": "9f1f348f-7078-41dd-a54d-d36d0b364394"
      },
      "source": [
        "encoded_y_test"
      ],
      "execution_count": 31,
      "outputs": [
        {
          "output_type": "execute_result",
          "data": {
            "text/plain": [
              "array([2, 0, 0, ..., 3, 0, 0])"
            ]
          },
          "metadata": {},
          "execution_count": 31
        }
      ]
    },
    {
      "cell_type": "code",
      "metadata": {
        "colab": {
          "base_uri": "https://localhost:8080/"
        },
        "id": "dft7a11IIZSM",
        "outputId": "0a1c4b55-bc5a-4171-80c3-90f7f7bc8a61"
      },
      "source": [
        "from sklearn.metrics import precision_recall_fscore_support, accuracy_score\n",
        "\n",
        "accuracy = accuracy_score(encoded_y_test, pred)\n",
        "print(\"Accuracy:\", accuracy)\n",
        "precision, recall, f1_score, _ = precision_recall_fscore_support(encoded_y_test, pred)\n",
        "print(\"Precision: {}, Recall: {}, F1-score: {}\".format(precision, recall, f1_score))"
      ],
      "execution_count": 32,
      "outputs": [
        {
          "output_type": "stream",
          "name": "stdout",
          "text": [
            "Accuracy: 0.6212885541197337\n",
            "Precision: [0.84371427 0.59051883 0.18424473 0.36074981], Recall: [0.72220345 0.49950718 0.85880708 0.20176518], F1-score: [0.77824441 0.5412135  0.30339946 0.25879044]\n"
          ]
        }
      ]
    },
    {
      "cell_type": "code",
      "metadata": {
        "id": "U-_QH85vIgMI"
      },
      "source": [
        "metrics_matrix = confusion_matrix(encoded_y_test, y_pred=pred) "
      ],
      "execution_count": 33,
      "outputs": []
    },
    {
      "cell_type": "code",
      "metadata": {
        "colab": {
          "base_uri": "https://localhost:8080/"
        },
        "id": "7bHIppYmIvHB",
        "outputId": "92931fa8-338d-4817-9be5-31e7425e86b8"
      },
      "source": [
        "metrics_matrix"
      ],
      "execution_count": 34,
      "outputs": [
        {
          "output_type": "execute_result",
          "data": {
            "text/plain": [
              "array([[61986,  4500, 14728,  4615],\n",
              "       [ 1997,  9629,  5798,  1853],\n",
              "       [  500,   193,  5529,   216],\n",
              "       [ 8985,  1984,  3954,  3772]])"
            ]
          },
          "metadata": {},
          "execution_count": 34
        }
      ]
    },
    {
      "cell_type": "code",
      "metadata": {
        "id": "SR0_Jz1yIxDv"
      },
      "source": [
        "import seaborn as sns\n",
        "import matplotlib.pyplot as plt"
      ],
      "execution_count": 35,
      "outputs": []
    },
    {
      "cell_type": "markdown",
      "metadata": {
        "id": "p5HXtvWvJnRG"
      },
      "source": [
        "We can visualize the results in a confusion matrix to understand how the neural network classifier behaves for each of the classes."
      ]
    },
    {
      "cell_type": "code",
      "metadata": {
        "colab": {
          "base_uri": "https://localhost:8080/",
          "height": 297
        },
        "id": "JauGfINzJEMn",
        "outputId": "d9105a81-d0d1-4102-f186-0176b1288837"
      },
      "source": [
        "sns.heatmap(metrics_matrix, annot = True, fmt = \".3f\", square = True, cmap = plt.cm.Blues)\n",
        "plt.ylabel('Actual')\n",
        "plt.xlabel('Predicted')\n",
        "plt.title('Confusion matrix')\n",
        "plt.tight_layout()\n",
        "plt.show()"
      ],
      "execution_count": 36,
      "outputs": [
        {
          "output_type": "display_data",
          "data": {
            "image/png": "[encoded data removed]",
            "text/plain": [
              "<Figure size 432x288 with 2 Axes>"
            ]
          },
          "metadata": {
            "needs_background": "light"
          }
        }
      ]
    },
    {
      "cell_type": "markdown",
      "metadata": {
        "id": "upqEqOcnJyGZ"
      },
      "source": [
        "We can see that it performs fairly well for the benign class, but has trouble with the other classes. However, given the massive class imbalance, this was to be expected, and in fact performs better than we had hoped."
      ]
    },
    {
      "cell_type": "code",
      "metadata": {
        "id": "l-Xxc1D7JcmO"
      },
      "source": [
        "# Tool to take in a url and predict it's label"
      ],
      "execution_count": 37,
      "outputs": []
    },
    {
      "cell_type": "code",
      "metadata": {
        "colab": {
          "base_uri": "https://localhost:8080/"
        },
        "id": "3827_iD2V7-m",
        "outputId": "ec316c2d-ed69-4b92-8a1f-3029989f97df"
      },
      "source": [
        "sample_url = input(\"Please Enter your URL to evaluate: \")"
      ],
      "execution_count": 54,
      "outputs": [
        {
          "name": "stdout",
          "output_type": "stream",
          "text": [
            "Please Enter your URL to evaluate: www.attacker.info.cw\n"
          ]
        }
      ]
    },
    {
      "cell_type": "code",
      "metadata": {
        "id": "LZdVYJSTWDv8"
      },
      "source": [
        "vectorize_URL = tokenizer.texts_to_sequences(np.array([sample_url]))"
      ],
      "execution_count": 55,
      "outputs": []
    },
    {
      "cell_type": "code",
      "metadata": {
        "id": "93rPqfl4WPGN"
      },
      "source": [
        "vectorize_URL = pad_sequences(vectorize_URL, padding='post', maxlen=max_url)"
      ],
      "execution_count": 56,
      "outputs": []
    },
    {
      "cell_type": "code",
      "metadata": {
        "id": "zWIElwdLWlOY"
      },
      "source": [
        "prediction = model.predict(vectorize_URL)"
      ],
      "execution_count": 57,
      "outputs": []
    },
    {
      "cell_type": "code",
      "metadata": {
        "colab": {
          "base_uri": "https://localhost:8080/"
        },
        "id": "DQvUG2S9Wxzk",
        "outputId": "99ebb35e-9700-4d0e-fc03-2bab065fe998"
      },
      "source": [
        "print(prediction)"
      ],
      "execution_count": 58,
      "outputs": [
        {
          "output_type": "stream",
          "name": "stdout",
          "text": [
            "[[0.2046008  0.24298315 0.16655637 0.38585964]]\n"
          ]
        }
      ]
    },
    {
      "cell_type": "code",
      "metadata": {
        "id": "4YJjdYn7W0QA"
      },
      "source": [
        "res = encoder.classes_[np.argmax(prediction)]"
      ],
      "execution_count": 59,
      "outputs": []
    },
    {
      "cell_type": "code",
      "metadata": {
        "colab": {
          "base_uri": "https://localhost:8080/",
          "height": 35
        },
        "id": "029KUtLPXHhF",
        "outputId": "e7dbd53b-16bb-46d9-f847-8ef42d96b08f"
      },
      "source": [
        "res"
      ],
      "execution_count": 60,
      "outputs": [
        {
          "output_type": "execute_result",
          "data": {
            "application/vnd.google.colaboratory.intrinsic+json": {
              "type": "string"
            },
            "text/plain": [
              "'phishing'"
            ]
          },
          "metadata": {},
          "execution_count": 60
        }
      ]
    },
    {
      "cell_type": "code",
      "metadata": {
        "id": "zpCr-ogFXQ4F"
      },
      "source": [
        ""
      ],
      "execution_count": null,
      "outputs": []
    }
  ]
}